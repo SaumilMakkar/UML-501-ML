{
 "cells": [
  {
   "cell_type": "code",
   "execution_count": 14,
   "id": "a095b03d",
   "metadata": {},
   "outputs": [
    {
     "name": "stdout",
     "output_type": "stream",
     "text": [
      "Index(['CustomerID', 'Title', 'FirstName', 'MiddleName', 'LastName', 'Suffix',\n",
      "       'AddressLine1', 'AddressLine2', 'City', 'StateProvinceName',\n",
      "       'CountryRegionName', 'PostalCode', 'PhoneNumber', 'BirthDate',\n",
      "       'Education', 'Occupation', 'Gender', 'MaritalStatus', 'HomeOwnerFlag',\n",
      "       'NumberCarsOwned', 'NumberChildrenAtHome', 'TotalChildren',\n",
      "       'YearlyIncome', 'LastUpdated'],\n",
      "      dtype='object')\n",
      "Cosine similarity: [[0.86014719]]\n",
      "Simple Matching Coefficient: 0.7368421052631579\n",
      "Jaccard similarity: 0.7777777777777778\n"
     ]
    },
    {
     "name": "stderr",
     "output_type": "stream",
     "text": [
      "C:\\Users\\HP\\AppData\\Local\\Temp\\ipykernel_16744\\2870865492.py:26: FutureWarning: Setting an item of incompatible dtype is deprecated and will raise in a future error of pandas. Value '[0.49684201 0.48945285 0.53617171 ... 0.23244194 0.54312104 0.98012843]' has dtype incompatible with int64, please explicitly cast to a compatible dtype first.\n",
      "  df_selected.loc[:, [YEARLY_INCOME_COL]] = scaler.fit_transform(df_selected[[YEARLY_INCOME_COL]])\n"
     ]
    }
   ],
   "source": [
    "import pandas as pd\n",
    "from sklearn.preprocessing import MinMaxScaler, StandardScaler\n",
    "from sklearn.metrics.pairwise import cosine_similarity\n",
    "from scipy.spatial.distance import jaccard\n",
    "import numpy as np\n",
    "\n",
    "scaler = MinMaxScaler()\n",
    "std_scaler = StandardScaler()\n",
    "YEARLY_INCOME_COL = \"YearlyIncome\"\n",
    "\n",
    "# Load\n",
    "df = pd.read_csv(\"AWCustomers.csv\")\n",
    "print(df.columns)\n",
    "\n",
    "# Select features (make sure to copy to avoid SettingWithCopyWarning)\n",
    "selected = [\n",
    "    \"Occupation\", \"Education\", \"Gender\", \"MaritalStatus\", \"HomeOwnerFlag\",\n",
    "    \"NumberCarsOwned\", \"TotalChildren\", YEARLY_INCOME_COL\n",
    "]\n",
    "df_selected = df[selected].copy()\n",
    "\n",
    "# Handle nulls\n",
    "df_selected[YEARLY_INCOME_COL] = df_selected[YEARLY_INCOME_COL].fillna(df_selected[YEARLY_INCOME_COL].median())\n",
    "\n",
    "# Scale income\n",
    "df_selected.loc[:, [YEARLY_INCOME_COL]] = scaler.fit_transform(df_selected[[YEARLY_INCOME_COL]])\n",
    "df_selected.loc[:, [YEARLY_INCOME_COL]] = std_scaler.fit_transform(df_selected[[YEARLY_INCOME_COL]])\n",
    "\n",
    "# One-hot encoding\n",
    "df_final = pd.get_dummies(df_selected,\n",
    "                          columns=[\"Gender\", \"MaritalStatus\", \"Education\",\n",
    "                                   \"Occupation\", \"HomeOwnerFlag\"])\n",
    "\n",
    "# Similarity measures\n",
    "obj1 = df_final.iloc[0].values.reshape(1,-1)\n",
    "obj2 = df_final.iloc[1].values.reshape(1,-1)\n",
    "\n",
    "cos_sim = cosine_similarity(obj1, obj2)\n",
    "print(\"Cosine similarity:\", cos_sim)\n",
    "\n",
    "smc = np.sum(obj1 == obj2) / len(obj1.flatten())\n",
    "print(\"Simple Matching Coefficient:\", smc)\n",
    "\n",
    "# Jaccard needs binary input\n",
    "obj1_bin = (obj1 > 0).astype(int).flatten()\n",
    "obj2_bin = (obj2 > 0).astype(int).flatten()\n",
    "jac_sim = 1 - jaccard(obj1_bin, obj2_bin)\n",
    "print(\"Jaccard similarity:\", jac_sim)\n"
   ]
  }
 ],
 "metadata": {
  "kernelspec": {
   "display_name": "Python 3",
   "language": "python",
   "name": "python3"
  },
  "language_info": {
   "codemirror_mode": {
    "name": "ipython",
    "version": 3
   },
   "file_extension": ".py",
   "mimetype": "text/x-python",
   "name": "python",
   "nbconvert_exporter": "python",
   "pygments_lexer": "ipython3",
   "version": "3.13.7"
  }
 },
 "nbformat": 4,
 "nbformat_minor": 5
}
